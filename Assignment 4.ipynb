{
 "cells": [
  {
   "cell_type": "markdown",
   "metadata": {},
   "source": [
    "# Assignment 4"
   ]
  },
  {
   "cell_type": "markdown",
   "metadata": {},
   "source": [
    "1.1 Write a Python Program(with class concepts) to find the area of the triangle using the below\n",
    "formula.\n",
    "area = (s*(s-a)*(s-b)*(s-c)) ** 0.5\n",
    "Function to take the length of the sides of triangle from user should be defined in the parent\n",
    "class and function to calculate the area should be defined in subclass."
   ]
  },
  {
   "cell_type": "code",
   "execution_count": 1,
   "metadata": {},
   "outputs": [
    {
     "name": "stdout",
     "output_type": "stream",
     "text": [
      "Please provide the triangle length :3\n",
      "Please provide the triangle breath :4\n",
      "Please provide the triangle height :5\n",
      "The area of the triangle is : 6.000000\n"
     ]
    }
   ],
   "source": [
    "class len_sides():\n",
    "    def __init__(self,length,breath,height):\n",
    "        self.length = length\n",
    "        self.breath = breath\n",
    "        self.height = height\n",
    "\n",
    "    def calc_semi_peri(self):\n",
    "        semi_peri = (self.length+self.breath+self.height)/2\n",
    "        return semi_peri\n",
    "\n",
    "class tran_area(len_sides):\n",
    "    def __init__(self,semi_peri,*args):\n",
    "        super(tran_area,self).__init__(*args)\n",
    "        self.semi_peri = semi_peri\n",
    "\n",
    "    def calc_tran_area(self):\n",
    "        tot_tran_area = (self.semi_peri*(self.semi_peri-self.length)*(self.semi_peri-self.breath)*(self.semi_peri-self.height)) ** 0.5\n",
    "        return tot_tran_area\n",
    "\n",
    "\n",
    "len = input('Please provide the triangle length :')\n",
    "bre = input('Please provide the triangle breath :')\n",
    "heig = input('Please provide the triangle height :')\n",
    "\n",
    "obj_len_sides = len_sides(int(len),int(bre),int(heig))\n",
    "out_len_sides = obj_len_sides.calc_semi_peri()\n",
    "obj_tran_area = tran_area(int(out_len_sides),int(len),int(bre),int(heig))\n",
    "print('The area of the triangle is : %f' %obj_tran_area.calc_tran_area())"
   ]
  },
  {
   "cell_type": "markdown",
   "metadata": {},
   "source": [
    "1.2 Write a function filter_long_words() that takes a list of words and an integer n and returns\n",
    "the list of words that are longer than n."
   ]
  },
  {
   "cell_type": "code",
   "execution_count": 1,
   "metadata": {},
   "outputs": [
    {
     "name": "stdout",
     "output_type": "stream",
     "text": [
      "['sabyasachi', 'saha is', 'performing']\n"
     ]
    }
   ],
   "source": [
    "m = []\n",
    "def filter_long_words(word_in,x,y):\n",
    "    for i in range(0,x):\n",
    "        if len(word_in[i])>y:\n",
    "            m.append(word_in[i])\n",
    "    return m\n",
    "\n",
    "word1 = ['sabyasachi','saha is','not','performing']\n",
    "n = 3\n",
    "word_out = list(word1)\n",
    "l = len(word_out)\n",
    "out=filter_long_words(word_out,l,n)\n",
    "print(out)"
   ]
  },
  {
   "cell_type": "markdown",
   "metadata": {},
   "source": [
    "2.1 Write a Python program using function concept that maps list of words into a list of integers representing the lengths of the corresponding words. Hint: If a list [ ab,cde,erty] is passed on to the python function output should come as [2,3,4] Here 2,3 and 4 are the lengths of the words in the list."
   ]
  },
  {
   "cell_type": "code",
   "execution_count": 2,
   "metadata": {},
   "outputs": [
    {
     "name": "stdout",
     "output_type": "stream",
     "text": [
      "[2, 3, 4]\n"
     ]
    }
   ],
   "source": [
    "m=[]\n",
    "def chg_to_num(x):\n",
    "    for i in range(0, l):\n",
    "        m.append(len(word[i]))\n",
    "    return m\n",
    "\n",
    "word1 = ['ab','cde','erty']\n",
    "word = list(word1)\n",
    "l = len(word)\n",
    "out=chg_to_num(l)\n",
    "print(out)"
   ]
  },
  {
   "cell_type": "markdown",
   "metadata": {},
   "source": [
    "2.2 Write a Python function which takes a character (i.e. a string of length 1) and returns True if\n",
    "it is a vowel, False otherwise."
   ]
  },
  {
   "cell_type": "code",
   "execution_count": 3,
   "metadata": {},
   "outputs": [
    {
     "name": "stdout",
     "output_type": "stream",
     "text": [
      "Please provide the letter to check vowel :A\n",
      "True\n"
     ]
    }
   ],
   "source": [
    "def vowel(x):\n",
    "    if (x=='a' or x=='e' or x=='i' or x=='o' or x=='u' or x=='A' or x=='E' or x=='I' or x=='O' or x=='U'):\n",
    "        return True\n",
    "    else:\n",
    "        return False\n",
    "\n",
    "i = input(\"Please provide the letter to check vowel :\")\n",
    "j = vowel(str(i))\n",
    "print(j)"
   ]
  }
 ],
 "metadata": {
  "kernelspec": {
   "display_name": "Python 3",
   "language": "python",
   "name": "python3"
  },
  "language_info": {
   "codemirror_mode": {
    "name": "ipython",
    "version": 3
   },
   "file_extension": ".py",
   "mimetype": "text/x-python",
   "name": "python",
   "nbconvert_exporter": "python",
   "pygments_lexer": "ipython3",
   "version": "3.6.10"
  }
 },
 "nbformat": 4,
 "nbformat_minor": 4
}

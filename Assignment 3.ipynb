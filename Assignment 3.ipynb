{
 "cells": [
  {
   "cell_type": "markdown",
   "metadata": {},
   "source": [
    "# Assignment 3"
   ]
  },
  {
   "cell_type": "markdown",
   "metadata": {},
   "source": [
    "1.1 Write a Python Program to implement your own myreduce() function which works exactly\n",
    "like Python's built-in function reduce()"
   ]
  },
  {
   "cell_type": "code",
   "execution_count": 3,
   "metadata": {},
   "outputs": [
    {
     "name": "stdout",
     "output_type": "stream",
     "text": [
      "15\n"
     ]
    }
   ],
   "source": [
    "def myreduce(func1, seq):\n",
    "  result = seq[0]\n",
    "\n",
    "  for item in seq[1:]:\n",
    "   result = func1(result, item)\n",
    "\n",
    "  return result\n",
    "\n",
    "## Example to use the myreduce function.\n",
    "def test(x,y):\n",
    "    return x+y\n",
    "\n",
    "l=[1,2,3,4,5]\n",
    "k=myreduce(test,l)\n",
    "print(k)"
   ]
  },
  {
   "cell_type": "markdown",
   "metadata": {},
   "source": [
    "1.2 Write a Python program to implement your own myfilter() function which works exactly\n",
    "like Python's built-in function filter()"
   ]
  },
  {
   "cell_type": "code",
   "execution_count": 5,
   "metadata": {},
   "outputs": [
    {
     "name": "stdout",
     "output_type": "stream",
     "text": [
      "[4]\n"
     ]
    }
   ],
   "source": [
    "# Custom filter function\n",
    "def myfilter(func1, seq):\n",
    "\n",
    " result = []\n",
    " for item in seq:\n",
    "  if func1(item):\n",
    "   result.append(item)\n",
    "\n",
    " return result\n",
    "\n",
    "## Example to use the myfilter function.\n",
    "def test(x):\n",
    "    if x==4:\n",
    "        return True\n",
    "\n",
    "l=[1,2,3,4,5]\n",
    "k=myfilter(test,l)\n",
    "print(k)"
   ]
  },
  {
   "cell_type": "markdown",
   "metadata": {},
   "source": [
    "2. Implement List comprehensions to produce the following lists.\n",
    "Write List comprehensions to produce the following Lists"
   ]
  },
  {
   "cell_type": "markdown",
   "metadata": {},
   "source": [
    "['x', 'xx', 'xxx', 'xxxx', 'y', 'yy', 'yyy', 'yyyy', 'z', 'zz', 'zzz', 'zzzz']"
   ]
  },
  {
   "cell_type": "code",
   "execution_count": 7,
   "metadata": {},
   "outputs": [
    {
     "name": "stdout",
     "output_type": "stream",
     "text": [
      "['x', 'xx', 'xxx', 'xxxx', 'y', 'yy', 'yyy', 'yyyy', 'z', 'zz', 'zzz', 'zzzz']\n"
     ]
    }
   ],
   "source": [
    "l = ['x','y','z']\n",
    "a=[]\n",
    "for i in l:\n",
    "    for j in range(1,5):\n",
    "        k=i*j\n",
    "        a.append(k)\n",
    "print(a)"
   ]
  },
  {
   "cell_type": "markdown",
   "metadata": {},
   "source": [
    "['x', 'y', 'z', 'xx', 'yy', 'zz', 'xxx', 'yyy', 'zzz', 'xxxx', 'yyyy', 'zzzz']"
   ]
  },
  {
   "cell_type": "code",
   "execution_count": 8,
   "metadata": {},
   "outputs": [
    {
     "name": "stdout",
     "output_type": "stream",
     "text": [
      "['x', 'y', 'z', 'xx', 'yy', 'zz', 'xxx', 'yyy', 'zzz', 'xxxx', 'yyyy', 'zzzz']\n"
     ]
    }
   ],
   "source": [
    "l = ['x','y','z']\n",
    "a=[]\n",
    "for j in range(1,5):\n",
    "    for i in l:\n",
    "        k=i*j\n",
    "        a.append(k)\n",
    "print(a)"
   ]
  },
  {
   "cell_type": "markdown",
   "metadata": {},
   "source": [
    "[[2], [3], [4], [3], [4], [5], [4], [5], [6]] [[2, 3, 4, 5], [3, 4, 5, 6],\n",
    "[4, 5, 6, 7], [5, 6, 7, 8]]"
   ]
  },
  {
   "cell_type": "code",
   "execution_count": 9,
   "metadata": {},
   "outputs": [
    {
     "name": "stdout",
     "output_type": "stream",
     "text": [
      "[['2'], ['3'], ['4'], ['3'], ['4'], ['5'], ['4'], ['5'], ['6']] [[2, 3, 4, 5], [3, 4, 5, 6], [4, 5, 6, 7], [5, 6, 7, 8]]\n"
     ]
    }
   ],
   "source": [
    "l=[['2'],['3'],['4'],['5'],['6']]\n",
    "m=[2,3,4,5,6,7,8]\n",
    "a=[]\n",
    "zz=[]\n",
    "kk=[]\n",
    "ll=[]\n",
    "mm=[]\n",
    "dd=[zz,kk,ll,mm]\n",
    "n=0\n",
    "p=0\n",
    "i=0\n",
    "while i<3:\n",
    "    for j in range(i,i+3):\n",
    "        a.append(l[j])\n",
    "    i=i+1\n",
    "while p<4:\n",
    "    for q in range(p,p+4):\n",
    "        if p==0:\n",
    "            zz.append(m[q])\n",
    "        elif p==1:\n",
    "            kk.append(m[q])\n",
    "        elif p==2:\n",
    "            ll.append(m[q])\n",
    "        else:\n",
    "            mm.append(m[q])\n",
    "    p=p+1\n",
    "print(a,dd)"
   ]
  },
  {
   "cell_type": "markdown",
   "metadata": {},
   "source": [
    "[(1, 1), (2, 1), (3, 1), (1, 2), (2, 2), (3, 2), (1, 3), (2, 3), (3, 3)]"
   ]
  },
  {
   "cell_type": "code",
   "execution_count": 10,
   "metadata": {},
   "outputs": [
    {
     "name": "stdout",
     "output_type": "stream",
     "text": [
      "[(1, 1), (2, 1), (3, 1)] [(1, 2), (2, 2), (3, 2)] [(1, 3), (2, 3), (3, 3)]\n"
     ]
    }
   ],
   "source": [
    "l=[1,2,3]\n",
    "k=[]\n",
    "n=[]\n",
    "m=[]\n",
    "j=0\n",
    "while j<3:\n",
    "    for i in range(3):\n",
    "        if j==0:\n",
    "            k.append((l[i],l[j]))\n",
    "        if j==1:\n",
    "            n.append((l[i],l[j]))\n",
    "        if j==2:\n",
    "            m.append((l[i],l[j]))\n",
    "    j=j+1\n",
    "print(k,n,m)"
   ]
  }
 ],
 "metadata": {
  "kernelspec": {
   "display_name": "Python 3",
   "language": "python",
   "name": "python3"
  },
  "language_info": {
   "codemirror_mode": {
    "name": "ipython",
    "version": 3
   },
   "file_extension": ".py",
   "mimetype": "text/x-python",
   "name": "python",
   "nbconvert_exporter": "python",
   "pygments_lexer": "ipython3",
   "version": "3.6.10"
  }
 },
 "nbformat": 4,
 "nbformat_minor": 4
}
